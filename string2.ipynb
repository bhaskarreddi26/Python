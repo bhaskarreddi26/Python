{
 "cells": [
  {
   "cell_type": "code",
   "execution_count": 3,
   "metadata": {},
   "outputs": [
    {
     "name": "stdout",
     "output_type": "stream",
     "text": [
      "['Hey', 'you', 'what', 'are', 'you', 'doing', 'here']\n"
     ]
    }
   ],
   "source": [
    "import re\n",
    "DATA = \"Hey, you - what are @ you $ doing here!?\"\n",
    "print (re.findall(r\"[\\w']+\", DATA)) #remove all the special char in the string"
   ]
  },
  {
   "cell_type": "code",
   "execution_count": 13,
   "metadata": {},
   "outputs": [
    {
     "name": "stdout",
     "output_type": "stream",
     "text": [
      "[32535, 232, 121, 12]\n",
      "[1, 3, 5, 6]\n",
      "[5, 6, 7, 8, 10, 11, 12, 13, 14, 24, 25, 26, 34, 35, 36, 38, 39]\n",
      "[4, 5, 3, 4, 3, 2, 5, 3, 5, 2, 3, 2, 1, 2, 1, 1, 2]\n",
      "[32, 48, 58, 77, 98, 108]\n"
     ]
    }
   ],
   "source": [
    "st = \"reddi4534 32535 bhaskar 232 reddy 121 12 kasireddy\"\n",
    "print ([int(s) for s in st.split() if s.isdigit()]) #finding all the integers in between the line\n",
    "id1 = ([i for i, s in enumerate(st.split()) if s.isdigit()]) # indexs of the interger in the word (poistions)\n",
    "print (id1)\n",
    "id2 = ([i for i, s in enumerate(st) if s.isdigit()]) #find indexs of the interger in the word  by each char and index (poistions)\n",
    "id3 = ([int(s) for i, s in enumerate(st) if s.isdigit()]) #find the interger in the word  by each char and displaying values\n",
    "print (id2)\n",
    "print (id3)\n",
    "\n",
    "st2 = \"nagalakshmi muddu krishnamurthy reddy vishrutha reddy kasireddy joshitha kasireddy reddi bhaskara reddy kasireddy\"\n",
    "st3 = \"reddy\"\n",
    "#re is regular expression \n",
    "import re\n",
    "d = [m.start() for m in re.finditer(st3, st2)] #finding the number of times sub string found in the string and display index\n",
    "print (d)\n"
   ]
  },
  {
   "cell_type": "code",
   "execution_count": 11,
   "metadata": {},
   "outputs": [
    {
     "name": "stdout",
     "output_type": "stream",
     "text": [
      "correct\n"
     ]
    }
   ],
   "source": [
    "import random\n",
    "\n",
    "foo = ['battery', 'correct', 'horse', 'staple']\n",
    "secure_random = random.SystemRandom()\n",
    "print(secure_random.choice(foo))"
   ]
  },
  {
   "cell_type": "code",
   "execution_count": 12,
   "metadata": {},
   "outputs": [
    {
     "name": "stdout",
     "output_type": "stream",
     "text": [
      "c\n"
     ]
    }
   ],
   "source": [
    "import random\n",
    "\n",
    "st = ['a', 'b', 'c', 'd', 'e']\n",
    "print(random.choice(st)) # selecting the random choice "
   ]
  },
  {
   "cell_type": "code",
   "execution_count": 20,
   "metadata": {},
   "outputs": [
    {
     "name": "stdout",
     "output_type": "stream",
     "text": [
      "{ Hello } 42 42\n"
     ]
    }
   ],
   "source": [
    "x = \"{{ Hello }} {0} {0}\"\n",
    "print (x.format(42))"
   ]
  },
  {
   "cell_type": "code",
   "execution_count": 3,
   "metadata": {},
   "outputs": [
    {
     "name": "stdout",
     "output_type": "stream",
     "text": [
      "     A    B  C\n",
      "0  foo  bar  0\n",
      "1  bar  foo  1\n",
      "2  foo  bar  2\n",
      "3  bar  foo  3\n",
      "4  foo  far  4\n",
      "5  bar  foo  5\n",
      "6  foo  far  6\n",
      "7  foo  bar  7\n"
     ]
    }
   ],
   "source": [
    "import pandas as pd\n",
    "import numpy as np\n",
    "df = pd.DataFrame({'A': 'foo bar foo bar foo bar foo foo'.split(),\n",
    "                   'B': 'bar foo bar foo far foo far bar'.split(),\n",
    "                   'C': np.arange(8)})\n",
    "print(df)"
   ]
  },
  {
   "cell_type": "code",
   "execution_count": 5,
   "metadata": {},
   "outputs": [
    {
     "name": "stdout",
     "output_type": "stream",
     "text": [
      "     A    B  C\n",
      "0  foo  bar  0\n",
      "2  foo  bar  2\n",
      "7  foo  bar  7\n",
      "     A    B  C\n",
      "1  bar  foo  1\n",
      "3  bar  foo  3\n",
      "5  bar  foo  5\n"
     ]
    }
   ],
   "source": [
    "df3 = (df['A'] == 'foo') & (df['B'] == 'bar')\n",
    "df5 = (df['A'] == 'bar') & (df['B'] == 'foo')\n",
    "df4 = df.loc[df3, ['A', 'B', 'C']]\n",
    "df6 = df.loc[df5, ['A', 'B', 'C']]\n",
    "#df3 = df.loc([df['A'] == 'foo' and df['B'] == 'bar'])\n",
    "print (df4)\n",
    "print (df6)"
   ]
  },
  {
   "cell_type": "code",
   "execution_count": 7,
   "metadata": {},
   "outputs": [
    {
     "name": "stdout",
     "output_type": "stream",
     "text": [
      "9\n",
      "9\n"
     ]
    }
   ],
   "source": [
    "#d1, d =0\n",
    "total = df4['C'].sum()\n",
    "total2 = df6['C'].sum()\n",
    "print (total)\n",
    "print (total2)"
   ]
  },
  {
   "cell_type": "code",
   "execution_count": null,
   "metadata": {},
   "outputs": [],
   "source": []
  },
  {
   "cell_type": "code",
   "execution_count": null,
   "metadata": {},
   "outputs": [],
   "source": []
  }
 ],
 "metadata": {
  "kernelspec": {
   "display_name": "Python 3",
   "language": "python",
   "name": "python3"
  },
  "language_info": {
   "codemirror_mode": {
    "name": "ipython",
    "version": 3
   },
   "file_extension": ".py",
   "mimetype": "text/x-python",
   "name": "python",
   "nbconvert_exporter": "python",
   "pygments_lexer": "ipython3",
   "version": "3.5.2"
  }
 },
 "nbformat": 4,
 "nbformat_minor": 2
}
