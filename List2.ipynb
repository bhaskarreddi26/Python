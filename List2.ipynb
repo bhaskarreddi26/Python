{
 "cells": [
  {
   "cell_type": "code",
   "execution_count": 15,
   "metadata": {},
   "outputs": [],
   "source": [
    "# create a single list from list of lists\n",
    "l = [[1, 2, 3], [4, 5, 6], [7], [8, 9]]"
   ]
  },
  {
   "cell_type": "code",
   "execution_count": 3,
   "metadata": {},
   "outputs": [
    {
     "name": "stdout",
     "output_type": "stream",
     "text": [
      "[1, 2, 3, 4, 5, 6, 7, 8, 9]\n"
     ]
    }
   ],
   "source": [
    "flat_list = [item for sublist in l for item in sublist]\n",
    "print (flat_list)"
   ]
  },
  {
   "cell_type": "code",
   "execution_count": 7,
   "metadata": {},
   "outputs": [],
   "source": [
    "flatten = lambda l: [item for sublist in l for item in sublist]"
   ]
  },
  {
   "cell_type": "code",
   "execution_count": 29,
   "metadata": {},
   "outputs": [],
   "source": [
    "L = [[[1, 2, 3], [4, 5]], 6]\n",
    "def flatten(l):\n",
    "    for el in l:\n",
    "        if isinstance(el, collections.Iterable) and not isinstance(el, (str, bytes)):\n",
    "            yield from flatten(el)\n",
    "        else:\n",
    "            yield el\n",
    "\n",
    "s1 = flatten(L)"
   ]
  },
  {
   "cell_type": "code",
   "execution_count": 14,
   "metadata": {},
   "outputs": [
    {
     "name": "stdout",
     "output_type": "stream",
     "text": [
      "[(0, 0), (2, 1), (1, 2), (4, 3), (3, 4)]\n",
      "[(0, 0), (1, 2), (2, 1), (3, 4), (4, 3)]\n"
     ]
    }
   ],
   "source": [
    "#sort the value of dist \n",
    "import operator\n",
    "x = {1: 2, 3: 4, 4: 3, 2: 1, 0: 0}\n",
    "sorted_x = sorted(x.items(), key=operator.itemgetter(1))\n",
    "print (sorted_x)\n",
    "#sort the key of dist\n",
    "sort_x1 = sorted(x.items(), key=operator.itemgetter(0))\n",
    "print(sort_x1)"
   ]
  },
  {
   "cell_type": "code",
   "execution_count": 21,
   "metadata": {},
   "outputs": [
    {
     "name": "stdout",
     "output_type": "stream",
     "text": [
      "<generator object <genexpr> at 0x7fdb5c932620>\n",
      "[1, 2, 3]\n",
      "6\n",
      "2 3 2 2 4 3\n"
     ]
    }
   ],
   "source": [
    "a = [1,2,1,1,3,2]\n",
    "s = (1 if x ==1 else 2 if x == 2 else 3 for x in a)\n",
    "print (s)\n",
    "print ([*{x for x in a}]) # remove the duplicates and sorting it\n",
    "print (sum([*{x for x in a}])) # removing the duplicates and sorting & sum the list values\n",
    "print (*(map(lambda x: x+1, a))) # adding values to lists elemments\n"
   ]
  },
  {
   "cell_type": "code",
   "execution_count": 35,
   "metadata": {},
   "outputs": [
    {
     "name": "stdout",
     "output_type": "stream",
     "text": [
      "[5, 6, 7, 8]\n",
      "[1, 2, 3, 5, 6, 7, 8]\n",
      "[(1, 1), (2, 2), (3, 3), (1, 1), (2, 2), (5, 1), (6, 1), (7, 1), (8, 1)]\n",
      "{1: 1, 2: 2, 3: 3, 5: 1, 6: 1, 7: 1, 8: 1}\n",
      "[20, 21, 22, 23, 24, 25, 26, 27, 28, 29, 30, 31, 32, 33, 34, 35, 36, 37, 38, 39, 40, 41, 42, 43, 44, 45, 46, 47, 48, 49]\n",
      "[20, 21, 22, 23, 24, 25, 26, 27, 28, 29, 30, 31, 32, 33, 34, 35, 36, 37, 38, 39, 40, 41, 42, 43, 44, 45, 46, 47, 48, 49]\n"
     ]
    }
   ],
   "source": [
    "t = [1, 2, 3, 1, 2, 5, 6, 7, 8]\n",
    "s = [1, 2, 3,1,2,1,1,1,1,]\n",
    "print (sorted(list(set(t) - set(s)))) # sorting the lists and remove the common values \n",
    "\n",
    "from collections import OrderedDict\n",
    "print(list(OrderedDict.fromkeys(t))) # sorting the list values\n",
    "list1 = list(zip(t, s))\n",
    "print (list1) # convert two lists into list of tuples\n",
    "print(dict(zip(t, s))) # convert two lists into dictionary \n",
    "numbers = range (1,50)\n",
    "numbers = [n for n in numbers if n >= 20]\n",
    "print (numbers)\n",
    "for i, n in enumerate(numbers):\n",
    "    if n < 20 :\n",
    "        print (\"do something\") \n",
    "        numbers[i] = None\n",
    "numbers1 = [n for n in numbers if n is not None]\n",
    "print (numbers1)\n",
    "#d = {key: value for (key, value) in iteritems()}"
   ]
  },
  {
   "cell_type": "code",
   "execution_count": 38,
   "metadata": {},
   "outputs": [
    {
     "name": "stdout",
     "output_type": "stream",
     "text": [
      "[]\n"
     ]
    }
   ],
   "source": [
    "import itertools\n",
    "print(list(itertools.combinations('a', 10)))"
   ]
  },
  {
   "cell_type": "markdown",
   "metadata": {},
   "source": [
    "list_of_five = range(0,5)   \n",
    "swap_list_list = [[]]\n",
    "\n",
    "for swap in list_of_five:\n",
    "\n",
    "    temp_lists = []\n",
    "\n",
    "    for list_stub in swap_list_list:\n",
    "\n",
    "        this_list = copy.copy(list_stub)\n",
    "\n",
    "        this_list.append(swap)\n",
    "\n",
    "        temp_lists.append(this_list)\n",
    "\n",
    "\ttemp_lists.append(list_stub)\n",
    "\n",
    "    swap_list_list = temp_lists\n",
    "\n",
    "print swap_list_list"
   ]
  },
  {
   "cell_type": "code",
   "execution_count": 42,
   "metadata": {},
   "outputs": [
    {
     "name": "stdout",
     "output_type": "stream",
     "text": [
      "[[0, 1, 2, 3, 4], [1, 2, 3, 4], [2, 3, 4], [3, 4], [4], []]\n"
     ]
    }
   ],
   "source": [
    "import copy\n",
    "list_of_five = range(0,5)   \n",
    "swap_list_list = [[]]\n",
    "\n",
    "for swap in list_of_five:\n",
    "\n",
    "    temp_lists = []\n",
    "\n",
    "    for list_stub in swap_list_list:\n",
    "\n",
    "        this_list = copy.copy(list_stub)\n",
    "\n",
    "        this_list.append(swap)\n",
    "\n",
    "        temp_lists.append(this_list)\n",
    "\n",
    "    temp_lists.append(list_stub)\n",
    "\n",
    "    swap_list_list = temp_lists\n",
    "\n",
    "print (swap_list_list)"
   ]
  },
  {
   "cell_type": "code",
   "execution_count": 3,
   "metadata": {},
   "outputs": [],
   "source": []
  },
  {
   "cell_type": "code",
   "execution_count": 16,
   "metadata": {},
   "outputs": [
    {
     "name": "stdout",
     "output_type": "stream",
     "text": [
      "['reddi', 'bhaskara', 'reddy']\n",
      "[0, 3, 5, 6, 7, 8]\n",
      "[2, 3, 17, 18]\n"
     ]
    }
   ],
   "source": [
    "list11 = [1, 2, 3,1,2,1,1,1,1,2]\n",
    "st = 'reddi bhaskara reddy'\n",
    "st1 = st.split(' ')\n",
    "print (st1)\n",
    "indices = [i for i, x in enumerate(list11) if x == 1]\n",
    "indices1 = [i for i, x in enumerate(st) if x == 'd']\n",
    "print (indices) # finding the all occurances (index) of the value\n",
    "print (indices1) # finding the all occurances (index) of the char"
   ]
  },
  {
   "cell_type": "code",
   "execution_count": 14,
   "metadata": {},
   "outputs": [
    {
     "name": "stdout",
     "output_type": "stream",
     "text": [
      "5\n",
      "[1, 1, 1, 2]\n"
     ]
    }
   ],
   "source": [
    "# list modifications while doing the iterations \n",
    "mylist = [1,2,3,1,2,3,1,2,3,2,1,1]\n",
    "d =0\n",
    "a = []\n",
    "for i in mylist[::3]:   #skiping every first two elements \n",
    "    d += i    #sum of the every \n",
    "    a.append(i) # appending \n",
    "print (d)\n",
    "print (a)\n",
    "    "
   ]
  },
  {
   "cell_type": "code",
   "execution_count": 18,
   "metadata": {},
   "outputs": [
    {
     "name": "stdout",
     "output_type": "stream",
     "text": [
      "[0, 1, 2, 3, 4, 5, 6, 7, 8, 9, 10, 11, 12, 13, 14, 15, 16, 17, 18, 19, 20, 21, 22, 23, 24, 25, 26, 27, 28, 29]\n",
      "20\n",
      "[0 0 0 0 0 0 0 0 0 0 0 0 0 0 0 0 0 0 0 0 1 1 1 1 1 1 1 1 1 1]\n",
      "[[0.78873309 0.14183463 0.28484904 0.8554438  0.27621882 0.88471557]\n",
      " [0.90409686 0.97882739 0.7366934  0.85350962 0.36512521 0.53600612]\n",
      " [0.24667439 0.35486899 0.24062325 0.96494182 0.0836016  0.73006679]\n",
      " [0.43045527 0.57610912 0.378232   0.25012087 0.33762047 0.39123115]\n",
      " [0.39270119 0.79255867 0.90376533 0.94838568 0.11180983 0.33645894]\n",
      " [0.76610786 0.460743   0.47917075 0.95700756 0.90472827 0.53155657]]\n",
      "[[1 0 0 1 0 1]\n",
      " [1 1 0 1 0 0]\n",
      " [0 1 0 1 0 1]\n",
      " [1 1 0 0 0 1]\n",
      " [0 1 1 1 0 0]\n",
      " [1 0 0 1 1 0]]\n"
     ]
    }
   ],
   "source": [
    "#You could do it using np.sort to find the 10th largest value, and then use np.where to flag the array.\n",
    "import numpy as np\n",
    "#a = np.random.rand(30)\n",
    "a = list(range(30))\n",
    "a_10 = np.sort(a)[-10]\n",
    "a_new = np.where(a >= a_10, 1, 0)\n",
    "\n",
    "print(a) # Print the original\n",
    "print(a_10)\n",
    "print(a_new) # Print the boolean array\n",
    "#EDIT: A single-line, in-place operation is thus\n",
    "\n",
    "a = np.where(a >= np.sort(a)[-10], 1, 0)\n",
    "\n",
    "#EDIT2: The answer can be extended to 2D. I made a 6x6 matrix, where I flag per row the 3 largest values with a 1.\n",
    "\n",
    "# 2D example, save top3 per \n",
    "a = np.random.rand(6, 6)\n",
    "\n",
    "a_3 = np.sort(a, axis=1)[:,-3]\n",
    "a_new = np.where(a >= a_3[:,None], 1, 0)\n",
    "\n",
    "print(a)\n",
    "print(a_new)"
   ]
  },
  {
   "cell_type": "code",
   "execution_count": 7,
   "metadata": {},
   "outputs": [
    {
     "name": "stdout",
     "output_type": "stream",
     "text": [
      "1 + 2 = 3\n",
      "1 + 2 = 3\n",
      "1 + 2 = 3\n",
      "1 + 2 = 3\n"
     ]
    }
   ],
   "source": [
    "#Pairwise separate the list\n",
    "from itertools import *\n",
    "\n",
    "def pairwise(iterable):\n",
    "    a = iter(iterable)\n",
    "    return zip(a, a)\n",
    "\n",
    "for x, y in pairwise([1,2,1,2,1,2,1,2]):\n",
    "    print (\"%d + %d = %d\" % (x, y, x + y))"
   ]
  },
  {
   "cell_type": "code",
   "execution_count": 43,
   "metadata": {},
   "outputs": [
    {
     "name": "stdout",
     "output_type": "stream",
     "text": [
      "[[1, 2, 3], [1, 1, 6], [7, 8, 9]]\n",
      "[[1, 1, 6], [1, 2, 3], [7, 8, 9]]\n"
     ]
    }
   ],
   "source": [
    "data = [[1,2,3], [1,1,6], [7,8,9]]\n",
    "sorted_by_second = sorted(data, key=lambda tup: tup[2]) #sorting based on the list based on the index\n",
    "print (sorted_by_second)\n",
    "sort_x1 = sorted(data, key=operator.itemgetter(1)) #sorting based on the list based on the index\n",
    "print(sort_x1)"
   ]
  },
  {
   "cell_type": "code",
   "execution_count": 17,
   "metadata": {},
   "outputs": [
    {
     "name": "stdout",
     "output_type": "stream",
     "text": [
      "((7, 8, 1), (1, 2, 3), (4, 1, 6))\n",
      "[(7, 8, 1), (1, 2, 3), (4, 1, 6)]\n"
     ]
    }
   ],
   "source": [
    "import operator\n",
    "data1 = ((1,2,3), (4,1,6), (7,8,1))\n",
    "#sorted_by_second = sorted(data, key=lambda lst: lst(1))\n",
    "sort_x4 = sorted(data1, key=operator.itemgetter(2)) #sorting the tuples based on the index\n",
    "print(tuple(sort_x4))#displaying the which type want if tuple or list\n",
    "sort_x5 = sorted(data1, key=operator.itemgetter(2))\n",
    "print(list(sort_x5))"
   ]
  },
  {
   "cell_type": "code",
   "execution_count": 1,
   "metadata": {},
   "outputs": [
    {
     "name": "stdout",
     "output_type": "stream",
     "text": [
      "[[13, 17, 18, 21, 32], [7, 11, 13, 14, 28], [1, 5, 6, 8, 15, 16]]\n"
     ]
    }
   ],
   "source": [
    "T1 = (('13', '17', '18', '21', '32'),\n",
    "      ('07', '11', '13', '14', '28'),\n",
    "      ('01', '05', '06', '08', '15', '16'))\n",
    "T2 = [list(map(int, x)) for x in T1]\n",
    "print (T2) # convert the string of tuples to list of integers "
   ]
  },
  {
   "cell_type": "code",
   "execution_count": 10,
   "metadata": {},
   "outputs": [
    {
     "name": "stdout",
     "output_type": "stream",
     "text": [
      "[[13, 32], [7, 13, 28], [1, 6]]\n"
     ]
    }
   ],
   "source": [
    "c1 = [1, 6, 7, 10, 13, 28, 32, 41, 58, 63]\n",
    "c2 = [[13, 17, 18, 21, 32], [7, 11, 13, 14, 28], [1, 5, 6, 8, 15, 16]]\n",
    "\n",
    "c3 = [list(filter(lambda x: x in c1, sublist)) for sublist in c2]\n",
    "#c3 = [list(filter(lambda x: x in c1, sublist)) for sublist in c2]\n",
    "print (c3) #intersection of two lists"
   ]
  },
  {
   "cell_type": "code",
   "execution_count": 11,
   "metadata": {},
   "outputs": [
    {
     "name": "stdout",
     "output_type": "stream",
     "text": [
      "[[13, 32], [7, 13, 28], [1, 6]]\n"
     ]
    }
   ],
   "source": [
    "print (c3)"
   ]
  },
  {
   "cell_type": "code",
   "execution_count": 19,
   "metadata": {},
   "outputs": [
    {
     "name": "stdout",
     "output_type": "stream",
     "text": [
      "[1, 3, 3, 4]\n"
     ]
    }
   ],
   "source": [
    "x = [1,2,3,2,2,2,3,4]\n",
    "print(list(filter(lambda a: a != 2, x))) #remove the first occurrence of value in a list and all those elements"
   ]
  },
  {
   "cell_type": "code",
   "execution_count": 21,
   "metadata": {},
   "outputs": [
    {
     "name": "stdout",
     "output_type": "stream",
     "text": [
      "[4, 5, 4, 2, 3]\n",
      "[4, 5, 4, 2, 3]\n"
     ]
    }
   ],
   "source": [
    "a = [1,1,2,1,2,2,1,2,3,3,4,5,5,3,2,3,4,5]\n",
    "from itertools import groupby\n",
    "b = sorted(a, key = lambda x: x)\n",
    "d = [len(list(grp)) for k, grp in groupby(b)]\n",
    "print (d)\n",
    "c = [len(list(grp)) for k, grp in groupby(sorted(a, key = lambda x: x))]#sorting the list and find the number of occurnece\n",
    "print(c)\n",
    "\n"
   ]
  },
  {
   "cell_type": "code",
   "execution_count": 20,
   "metadata": {},
   "outputs": [
    {
     "name": "stdout",
     "output_type": "stream",
     "text": [
      "[0, 0, 0, 1, 1, 1, 1, 2, 2]\n"
     ]
    }
   ],
   "source": [
    "Y = [ 0,   1,   1,    0,   1,   2,   2,   0,   1]\n",
    "k = sorted(Y, key = lambda x: x)\n",
    "print (k) # Sorting the list of items"
   ]
  },
  {
   "cell_type": "code",
   "execution_count": 16,
   "metadata": {},
   "outputs": [
    {
     "name": "stdout",
     "output_type": "stream",
     "text": [
      "[1, 1, 2, 1, 2, 2, 1, 2, 3, 3, 4, 5, 5, 3, 2, 3, 4, 5] \n",
      " [1, 1, 2, 1, 2, 2, 1, 2, 3, 3, 4, 5, 5, 3, 2, 3, 4, 5]\n",
      "{1: 1, 2: 2, 3: 3, 4: 4, 5: 5}\n"
     ]
    }
   ],
   "source": [
    "a = [1,1,2,1,2,2,1,2,3,3,4,5,5,3,2,3,4,5]\n",
    "i = list(iter(a))\n",
    "print (i,'\\n', a)\n",
    "rr = dict(zip(i,i))\n",
    "print(rr)\n"
   ]
  },
  {
   "cell_type": "code",
   "execution_count": 21,
   "metadata": {},
   "outputs": [
    {
     "name": "stdout",
     "output_type": "stream",
     "text": [
      "[1, 2, 3, 5, 6]\n",
      "[1, 2, 3, 5, 6]\n",
      "{1, 2, 3, 5, 6}\n"
     ]
    }
   ],
   "source": [
    "a = [1,2,3,2,1,5,6,5,5,5]\n",
    "\n",
    "import collections\n",
    "print ([item for item, count in collections.Counter(a).items() if count >= 1]) #display unique elements\n",
    "\n",
    "seen = set()\n",
    "uniq = []\n",
    "for x in a:\n",
    "    if x not in seen:\n",
    "        uniq.append(x)\n",
    "        seen.add(x)\n",
    "print(uniq)\n",
    "print(seen)\n"
   ]
  },
  {
   "cell_type": "code",
   "execution_count": 17,
   "metadata": {},
   "outputs": [
    {
     "name": "stdout",
     "output_type": "stream",
     "text": [
      "[1234.5, 334, 333, 66.25, 1]\n",
      "[1234.5, 1, 334, 333, 66.25]\n"
     ]
    }
   ],
   "source": [
    "a = [66.25, 333, 334, 1, 1234.5]\n",
    "b = sorted(a, reverse=True)\n",
    "print (b)\n",
    "c = reversed(a)\n",
    "print(list(c))"
   ]
  },
  {
   "cell_type": "code",
   "execution_count": 18,
   "metadata": {},
   "outputs": [
    {
     "name": "stdout",
     "output_type": "stream",
     "text": [
      "[[1, 4, 7], [2, 5, 8], [3, 6, 9]]\n"
     ]
    }
   ],
   "source": [
    "l = [[1,2,3],[4,5,6],[7,8,9]] #Transpose list of lists\n",
    "z = list(map(list, zip(*l)))\n",
    "print(z)"
   ]
  },
  {
   "cell_type": "code",
   "execution_count": 22,
   "metadata": {},
   "outputs": [
    {
     "name": "stdout",
     "output_type": "stream",
     "text": [
      "[(1, 4, 7), (1, 4, 8), (1, 4, 9), (1, 4, 10), (1, 5, 7), (1, 5, 8), (1, 5, 9), (1, 5, 10), (1, 6, 7), (1, 6, 8), (1, 6, 9), (1, 6, 10), (2, 4, 7), (2, 4, 8), (2, 4, 9), (2, 4, 10), (2, 5, 7), (2, 5, 8), (2, 5, 9), (2, 5, 10), (2, 6, 7), (2, 6, 8), (2, 6, 9), (2, 6, 10), (3, 4, 7), (3, 4, 8), (3, 4, 9), (3, 4, 10), (3, 5, 7), (3, 5, 8), (3, 5, 9), (3, 5, 10), (3, 6, 7), (3, 6, 8), (3, 6, 9), (3, 6, 10)]\n"
     ]
    }
   ],
   "source": [
    " a = [[1,2,3],[4,5,6],[7,8,9,10]] #All combinations of a list of lists\n",
    "import itertools\n",
    "z = list(itertools.product(*a))\n",
    "print (z)"
   ]
  },
  {
   "cell_type": "code",
   "execution_count": 33,
   "metadata": {},
   "outputs": [
    {
     "data": {
      "text/plain": [
       "array([[0, 4, 1],\n",
       "       [1, 2, 3],\n",
       "       [4, 5, 6]])"
      ]
     },
     "execution_count": 33,
     "metadata": {},
     "output_type": "execute_result"
    }
   ],
   "source": [
    "import numpy as np\n",
    "a = np.array([[1,2,3],[4,5,6],[0,4,1]])\n",
    "np.sort(a.view('i8,i8,i8'), order=['f0'], axis=0).view(np.int)"
   ]
  },
  {
   "cell_type": "code",
   "execution_count": 41,
   "metadata": {},
   "outputs": [
    {
     "name": "stdout",
     "output_type": "stream",
     "text": [
      "20.11111111111111\n"
     ]
    }
   ],
   "source": [
    "import functools\n",
    "l = [15, 18, 2, 36, 12, 78, 5, 6, 9]\n",
    "print (functools.reduce(lambda x, y: x + y, l) / len(l)) #avg of list"
   ]
  },
  {
   "cell_type": "code",
   "execution_count": 17,
   "metadata": {},
   "outputs": [
    {
     "name": "stdout",
     "output_type": "stream",
     "text": [
      "[1, 1, 2, 2, 3, 5, 5, 5, 5, 6]\n",
      "[False]\n"
     ]
    }
   ],
   "source": [
    "a = [1,2,3,2,1,5,6,5,5,5]\n",
    "l = list(sorted(a, key=lambda x:x))\n",
    "print (l)\n",
    "\n",
    "import operator\n",
    "\n",
    "la = [1,2,3,2,1,5,6,5,5,5]\n",
    "la1 = [all(la[i] <= la[i+1] for i in range(len(la)-1))]\n",
    "print (la1)"
   ]
  },
  {
   "cell_type": "code",
   "execution_count": 15,
   "metadata": {},
   "outputs": [
    {
     "data": {
      "text/plain": [
       "a\n",
       "A       [1, 2]\n",
       "B    [3, 1, 2]\n",
       "C       [3, 1]\n",
       "Name: c, dtype: object"
      ]
     },
     "execution_count": 15,
     "metadata": {},
     "output_type": "execute_result"
    }
   ],
   "source": [
    "import pandas as pd\n",
    "df = pd.DataFrame( {'a':['A','A','B','B','B','C', 'C'], 'b':[1,2,5,5,4,6,4], 'c':[1,2,3,1,2,3,1]})\n",
    "df.groupby('a')['c'].apply(list)"
   ]
  },
  {
   "cell_type": "code",
   "execution_count": 16,
   "metadata": {},
   "outputs": [
    {
     "data": {
      "text/plain": [
       "[{'a': 3222, 'b': 1234}, {'a': 123, 'b': 1234}]"
      ]
     },
     "execution_count": 16,
     "metadata": {},
     "output_type": "execute_result"
    }
   ],
   "source": [
    "l = [{'a': 123, 'b': 1234}, {'a': 3222, 'b': 1234}, {'a': 123, 'b': 1234}]\n",
    "[dict(t) for t in set([tuple(d.items()) for d in l])] #remove the duplicate in the dicts of list"
   ]
  },
  {
   "cell_type": "code",
   "execution_count": 16,
   "metadata": {},
   "outputs": [
    {
     "name": "stdout",
     "output_type": "stream",
     "text": [
      "['Name1', '7.3', '6.9', '6.6', '6.6', '6.1', '6.4', '7.3']\n"
     ]
    }
   ],
   "source": [
    "l = ['Name1', '7.3', '6.9', '6.6\\n', '6.6', '6.1', '6.4', '7.3\\n']\n",
    "l = map(lambda s: s.strip(), l)\n",
    "print (list(l)) #If you want to remove \\n from all the elements"
   ]
  },
  {
   "cell_type": "code",
   "execution_count": 9,
   "metadata": {},
   "outputs": [
    {
     "name": "stdout",
     "output_type": "stream",
     "text": [
      "<map object at 0x7f47046822e8>\n"
     ]
    }
   ],
   "source": []
  },
  {
   "cell_type": "code",
   "execution_count": null,
   "metadata": {},
   "outputs": [],
   "source": []
  }
 ],
 "metadata": {
  "kernelspec": {
   "display_name": "Python 3",
   "language": "python",
   "name": "python3"
  },
  "language_info": {
   "codemirror_mode": {
    "name": "ipython",
    "version": 3
   },
   "file_extension": ".py",
   "mimetype": "text/x-python",
   "name": "python",
   "nbconvert_exporter": "python",
   "pygments_lexer": "ipython3",
   "version": "3.5.2"
  }
 },
 "nbformat": 4,
 "nbformat_minor": 2
}
